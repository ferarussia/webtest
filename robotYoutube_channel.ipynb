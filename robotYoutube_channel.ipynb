{
 "cells": [
  {
   "cell_type": "code",
   "execution_count": 1,
   "metadata": {},
   "outputs": [
    {
     "data": {
      "text/html": [
       "<script>\n",
       "    // AUTORUN ALL CELLS ON NOTEBOOK-LOAD!\n",
       "    require(\n",
       "        ['base/js/namespace', 'jquery'], \n",
       "        function(jupyter, $) {\n",
       "            $(jupyter.events).on(\"kernel_ready.Kernel\", function () {\n",
       "                console.log(\"Auto-running all cells-below...\");\n",
       "                jupyter.actions.call('jupyter-notebook:run-all-cells-below');\n",
       "                jupyter.actions.call('jupyter-notebook:save-notebook');\n",
       "            });\n",
       "        }\n",
       "    );\n",
       "</script>\n"
      ],
      "text/plain": [
       "<IPython.core.display.HTML object>"
      ]
     },
     "metadata": {},
     "output_type": "display_data"
    }
   ],
   "source": [
    "%%html\n",
    "<script>\n",
    "    // AUTORUN ALL CELLS ON NOTEBOOK-LOAD!\n",
    "    require(\n",
    "        ['base/js/namespace', 'jquery'], \n",
    "        function(jupyter, $) {\n",
    "            $(jupyter.events).on(\"kernel_ready.Kernel\", function () {\n",
    "                console.log(\"Auto-running all cells-below...\");\n",
    "                jupyter.actions.call('jupyter-notebook:run-all-cells-below');\n",
    "                jupyter.actions.call('jupyter-notebook:save-notebook');\n",
    "            });\n",
    "        }\n",
    "    );\n",
    "</script>"
   ]
  },
  {
   "cell_type": "code",
   "execution_count": 3,
   "metadata": {},
   "outputs": [],
   "source": [
    "# Imports\n",
    "import selenium\n",
    "from selenium.webdriver.common.by import By\n",
    "from selenium.webdriver.support.ui import WebDriverWait\n",
    "from selenium.webdriver.support import expected_conditions as EC\n",
    "from selenium.common.exceptions import TimeoutException\n",
    "from selenium.webdriver.common.keys import Keys\n",
    "import urllib.request\n",
    "import pickle\n",
    "import logging\n",
    "from selenium import webdriver\n",
    "from selenium.webdriver.common.by import By\n",
    "from selenium.webdriver.common.keys import Keys\n",
    "from selenium.webdriver.support.ui import WebDriverWait\n",
    "from selenium.webdriver.support import expected_conditions as EC\n",
    "from selenium.webdriver.common.action_chains import ActionChains"
   ]
  },
  {
   "cell_type": "code",
   "execution_count": 4,
   "metadata": {},
   "outputs": [],
   "source": [
    "# Configuration Logging\n",
    "logging.basicConfig(level=logging.INFO)\n",
    "logger = logging.getLogger(__name__)"
   ]
  },
  {
   "cell_type": "code",
   "execution_count": 5,
   "metadata": {},
   "outputs": [],
   "source": [
    "\n",
    "# Webdriver Configuration\n",
    "option = selenium.webdriver.ChromeOptions()\n",
    "option.add_argument(\"--headless\") #Running on server (mybinder)\n",
    "#option.add_argument(\"--start-maximized\") #Running Local\n",
    "#pathWebDriverWindows = 'D:/ProgramFiles/chromedriver_win32/chromedriver.exe'\n",
    "pathWebDriverLinux='./chromedriver'"
   ]
  },
  {
   "cell_type": "code",
   "execution_count": 6,
   "metadata": {},
   "outputs": [],
   "source": [
    "browser = selenium.webdriver.Chrome(executable_path=pathWebDriverLinux, chrome_options=option)"
   ]
  },
  {
   "cell_type": "code",
   "execution_count": 7,
   "metadata": {},
   "outputs": [],
   "source": [
    "wait = WebDriverWait(browser, 3)\n",
    "presence = EC.presence_of_element_located\n",
    "visible = EC.visibility_of_element_located"
   ]
  },
  {
   "cell_type": "code",
   "execution_count": 8,
   "metadata": {},
   "outputs": [],
   "source": [
    "import time\n",
    "from selenium.webdriver.common.keys import Keys"
   ]
  },
  {
   "cell_type": "code",
   "execution_count": null,
   "metadata": {
    "scrolled": false
   },
   "outputs": [
    {
     "name": "stdout",
     "output_type": "stream",
     "text": [
      "Status -1\n",
      "Audio Coding - 04 Basics of Psychoacoustics - 08 Pure Tones Masked by Narrow-Band Noise\n",
      "Status -1\n",
      "Audio Coding - 04 Basics of Psychoacoustics - 08 Pure Tones Masked by Narrow-Band Noise\n",
      "Status -1\n",
      "Audio Coding - 04 Basics of Psychoacoustics - 08 Pure Tones Masked by Narrow-Band Noise\n",
      "Status -1\n",
      "Audio Coding - 04 Basics of Psychoacoustics - 08 Pure Tones Masked by Narrow-Band Noise\n",
      "Status -1\n",
      "Audio Coding - 04 Basics of Psychoacoustics - 08 Pure Tones Masked by Narrow-Band Noise\n",
      "Status -1\n",
      "Audio Coding - 04 Basics of Psychoacoustics - 08 Pure Tones Masked by Narrow-Band Noise\n",
      "Status -1\n",
      "Audio Coding - 04 Basics of Psychoacoustics - 08 Pure Tones Masked by Narrow-Band Noise\n",
      "Status -1\n",
      "Audio Coding - 04 Basics of Psychoacoustics - 08 Pure Tones Masked by Narrow-Band Noise\n",
      "Status -1\n",
      "Audio Coding - 04 Basics of Psychoacoustics - 08 Pure Tones Masked by Narrow-Band Noise\n",
      "Status -1\n",
      "Audio Coding - 04 Basics of Psychoacoustics - 08 Pure Tones Masked by Narrow-Band Noise\n",
      "Status -1\n",
      "Audio Coding - 04 Basics of Psychoacoustics - 08 Pure Tones Masked by Narrow-Band Noise\n",
      "Status -1\n",
      "Audio Coding - 04 Basics of Psychoacoustics - 08 Pure Tones Masked by Narrow-Band Noise\n",
      "Status -1\n",
      "Audio Coding - 04 Basics of Psychoacoustics - 08 Pure Tones Masked by Narrow-Band Noise\n",
      "Status -1\n",
      "Audio Coding - 04 Basics of Psychoacoustics - 08 Pure Tones Masked by Narrow-Band Noise\n",
      "Status -1\n",
      "Audio Coding - 04 Basics of Psychoacoustics - 08 Pure Tones Masked by Narrow-Band Noise\n"
     ]
    }
   ],
   "source": [
    "\n",
    "# Open a web browser and load a website\n",
    "# Runnig local on a windows Machine\n",
    "#browser = selenium.webdriver.Chrome(executable_path=pathWebDriverWindows, chrome_options=option)\n",
    "# Running on a Linux Server (mybinder)\n",
    "\n",
    "try:\n",
    "    browser.get('https://www.youtube.com/watch?v=6DkFvfGbTC4&list=UUyAyQAu_PTX5h1Ni4q0ShHQ')\n",
    "    time.sleep(10)\n",
    "    #browser.save_screenshot('x.png')\n",
    "    actions = ActionChains(browser) \n",
    "    actions.send_keys(Keys.RETURN)\n",
    "    actions.perform()\n",
    "    time.sleep(10)\n",
    "    actions.send_keys(Keys.TAB * 2)\n",
    "    actions.perform()\n",
    "    time.sleep(10)\n",
    "    actions.send_keys(Keys.RETURN)\n",
    "    actions.perform()\n",
    "    time.sleep(10)\n",
    "    actions.send_keys(Keys.SPACE)\n",
    "    actions.perform()\n",
    "    time.sleep(10)\n",
    "    #browser.save_screenshot('x2.png')\n",
    "    while True:\n",
    "        time.sleep(5)\n",
    "        player_status = browser.execute_script(\"return document.getElementById('movie_player').getPlayerState()\")\n",
    "        print('Status',player_status)\n",
    "        element = wait.until(EC.presence_of_element_located((By.CSS_SELECTOR,\"h1.title yt-formatted-string\"))).text\n",
    "        print(element)\n",
    "        if player_status==2:\n",
    "            actions = ActionChains(browser) \n",
    "            actions.send_keys('k')\n",
    "            actions.perform()\n",
    "                                \n",
    "        if player_status==0 or player_status=-1:\n",
    "            wait.until(visible((By.ID, \"video-title\")))\n",
    "            browser.find_element_by_id(\"video-title\").click()\n",
    "    #browser.save_screenshot('x.png')\n",
    "except Exception as e:\n",
    "    print(e)\n",
    "  \n",
    "        \n",
    "    "
   ]
  },
  {
   "cell_type": "code",
   "execution_count": null,
   "metadata": {},
   "outputs": [],
   "source": []
  }
 ],
 "metadata": {
  "kernelspec": {
   "display_name": "Python 3",
   "language": "python",
   "name": "python3"
  },
  "language_info": {
   "codemirror_mode": {
    "name": "ipython",
    "version": 3
   },
   "file_extension": ".py",
   "mimetype": "text/x-python",
   "name": "python",
   "nbconvert_exporter": "python",
   "pygments_lexer": "ipython3",
   "version": "3.7.8"
  }
 },
 "nbformat": 4,
 "nbformat_minor": 4
}
